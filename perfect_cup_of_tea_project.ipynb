{
 "cells": [
  {
   "cell_type": "markdown",
   "metadata": {},
   "source": [
    "## Search for a perfect cup of tea"
   ]
  },
  {
   "cell_type": "markdown",
   "metadata": {},
   "source": [
    "Germans have an awesome tradition: every year you get an Adventskalender, a special calendar to count down the days in anticipation of Christmas. You can be less creative and get traditional one with sweets or go to infinity and beyond with beer, LEGO, makeup or anything your heart desires.\n",
    "\n",
    "Last year I unexpectedly got three tea Adventskalenders: bought one for myself, one as a present at work and some from my awesome bouldering hall as a part of a price. It doesn't happen often that I have more than fifty teas to taste, so it would be a shame to miss a chance to find what makes tea awesome for me.\n",
    "\n",
    "Simple plan: drink tea, rate it, find relations between ingredients (or their combinations) and rating. One question that I had to work out before starting was how to rate teas. I am not big fan of scales, because I find it quite hard to work out if tea tastes as 4-star-tea or 5-star-tea, even worse would be to work out a difference between 7 and 8 on scale from 1 to 10. So I ended up with a simple solution: 1 - \"would buy again\", 0 - \"would not\". It obviously has an effect on how precise my analysis is, but it was good enough, plus I could avoid \"tracking fatigue\".\n",
    "\n",
    "P.S. It actually took me about two months to drink all the samples I had. During this time I have also tried some other teas, which I have included in the final dataset, though they are not originating from any christmas tea set.\n",
    "\n",
    "P.P.S. I translate german names in text, but the dataset itself has original german words."
   ]
  },
  {
   "cell_type": "markdown",
   "metadata": {},
   "source": [
    "### Stage one: Data prep"
   ]
  },
  {
   "cell_type": "markdown",
   "metadata": {},
   "source": [
    "First, parse lists of teas and their ingredients.\n",
    "\n",
    "Obviously, I had to deal with some mess: new lines, plural forms, extra information if ingredient is bio, special characters, same things with different way to spell (Grüner Tee and Grüntee, Verbene and Verbena) ect. No data is ever clean from the beginning.\n",
    "\n",
    "Next level of confusion was to find stuff that is almost identical, but not quite. How different are `vanilla extract` and `vanilla extract powder`? Would it affect my taste? If it seems that this one is straightforward, how about linden blossoms and linden leaves? Do leaves taste really different from flowers?\n",
    "\n",
    "I decided to strip down parts of plants from the names, it might be some information lost, but increases sample size for distinct ingredients."
   ]
  },
  {
   "cell_type": "code",
   "execution_count": 31,
   "metadata": {},
   "outputs": [],
   "source": [
    "import itertools\n",
    "import json\n",
    "import matplotlib.pyplot as plt\n",
    "import numpy as np\n",
    "import pandas as pd\n",
    "import sklearn\n",
    "from sklearn.feature_selection import SelectKBest, chi2\n",
    "\n",
    "import utils\n",
    "\n",
    "pd.set_option('display.max_rows', 50)\n",
    "\n",
    "with open('style.json') as f:\n",
    "    plt.rcParams.update(json.load(f))"
   ]
  },
  {
   "cell_type": "code",
   "execution_count": 32,
   "metadata": {
    "scrolled": false
   },
   "outputs": [
    {
     "data": {
      "text/html": [
       "<div>\n",
       "<style scoped>\n",
       "    .dataframe tbody tr th:only-of-type {\n",
       "        vertical-align: middle;\n",
       "    }\n",
       "\n",
       "    .dataframe tbody tr th {\n",
       "        vertical-align: top;\n",
       "    }\n",
       "\n",
       "    .dataframe thead th {\n",
       "        text-align: right;\n",
       "    }\n",
       "</style>\n",
       "<table border=\"1\" class=\"dataframe\">\n",
       "  <thead>\n",
       "    <tr style=\"text-align: right;\">\n",
       "      <th></th>\n",
       "      <th>Ringelblumen</th>\n",
       "      <th>Zitronenmyrten</th>\n",
       "      <th>Süße Brombeer</th>\n",
       "      <th>Reiskörner</th>\n",
       "      <th>Kakaoschale</th>\n",
       "      <th>Äpfel</th>\n",
       "      <th>Rosmarin</th>\n",
       "      <th>natürliches Aroma</th>\n",
       "      <th>Echtes Goldrutenkraut</th>\n",
       "      <th>Heidekraut</th>\n",
       "      <th>...</th>\n",
       "      <th>Bachnmischung (Auszug aus Gentian [Herbstenzian]</th>\n",
       "      <th>Echinaceakraut</th>\n",
       "      <th>Weißdorn</th>\n",
       "      <th>Passionsblumenkraut</th>\n",
       "      <th>Natürliches Aroma mit Apfelgeschmack</th>\n",
       "      <th>Majorankraut</th>\n",
       "      <th>Honigbuschzweigspitze</th>\n",
       "      <th>Orangen</th>\n",
       "      <th>Brombeer</th>\n",
       "      <th>Lemongras</th>\n",
       "    </tr>\n",
       "  </thead>\n",
       "  <tbody>\n",
       "    <tr>\n",
       "      <th>St. Lucia</th>\n",
       "      <td>0</td>\n",
       "      <td>1</td>\n",
       "      <td>0</td>\n",
       "      <td>0</td>\n",
       "      <td>0</td>\n",
       "      <td>0</td>\n",
       "      <td>0</td>\n",
       "      <td>1</td>\n",
       "      <td>0</td>\n",
       "      <td>0</td>\n",
       "      <td>...</td>\n",
       "      <td>0</td>\n",
       "      <td>0</td>\n",
       "      <td>0</td>\n",
       "      <td>0</td>\n",
       "      <td>0</td>\n",
       "      <td>0</td>\n",
       "      <td>1</td>\n",
       "      <td>0</td>\n",
       "      <td>0</td>\n",
       "      <td>0</td>\n",
       "    </tr>\n",
       "    <tr>\n",
       "      <th>Sanddorn Quitte</th>\n",
       "      <td>0</td>\n",
       "      <td>1</td>\n",
       "      <td>0</td>\n",
       "      <td>0</td>\n",
       "      <td>0</td>\n",
       "      <td>0</td>\n",
       "      <td>0</td>\n",
       "      <td>0</td>\n",
       "      <td>0</td>\n",
       "      <td>0</td>\n",
       "      <td>...</td>\n",
       "      <td>0</td>\n",
       "      <td>0</td>\n",
       "      <td>0</td>\n",
       "      <td>0</td>\n",
       "      <td>0</td>\n",
       "      <td>0</td>\n",
       "      <td>0</td>\n",
       "      <td>0</td>\n",
       "      <td>0</td>\n",
       "      <td>0</td>\n",
       "    </tr>\n",
       "    <tr>\n",
       "      <th>Glückseligkeit</th>\n",
       "      <td>0</td>\n",
       "      <td>0</td>\n",
       "      <td>0</td>\n",
       "      <td>0</td>\n",
       "      <td>0</td>\n",
       "      <td>1</td>\n",
       "      <td>1</td>\n",
       "      <td>1</td>\n",
       "      <td>0</td>\n",
       "      <td>0</td>\n",
       "      <td>...</td>\n",
       "      <td>0</td>\n",
       "      <td>0</td>\n",
       "      <td>0</td>\n",
       "      <td>0</td>\n",
       "      <td>0</td>\n",
       "      <td>0</td>\n",
       "      <td>0</td>\n",
       "      <td>0</td>\n",
       "      <td>0</td>\n",
       "      <td>0</td>\n",
       "    </tr>\n",
       "    <tr>\n",
       "      <th>Abendtee</th>\n",
       "      <td>0</td>\n",
       "      <td>0</td>\n",
       "      <td>0</td>\n",
       "      <td>0</td>\n",
       "      <td>0</td>\n",
       "      <td>0</td>\n",
       "      <td>0</td>\n",
       "      <td>0</td>\n",
       "      <td>0</td>\n",
       "      <td>0</td>\n",
       "      <td>...</td>\n",
       "      <td>0</td>\n",
       "      <td>0</td>\n",
       "      <td>0</td>\n",
       "      <td>0</td>\n",
       "      <td>0</td>\n",
       "      <td>0</td>\n",
       "      <td>0</td>\n",
       "      <td>0</td>\n",
       "      <td>0</td>\n",
       "      <td>0</td>\n",
       "    </tr>\n",
       "    <tr>\n",
       "      <th>Motivation &amp; Zuversicht</th>\n",
       "      <td>0</td>\n",
       "      <td>0</td>\n",
       "      <td>0</td>\n",
       "      <td>0</td>\n",
       "      <td>0</td>\n",
       "      <td>0</td>\n",
       "      <td>1</td>\n",
       "      <td>0</td>\n",
       "      <td>0</td>\n",
       "      <td>0</td>\n",
       "      <td>...</td>\n",
       "      <td>1</td>\n",
       "      <td>0</td>\n",
       "      <td>0</td>\n",
       "      <td>0</td>\n",
       "      <td>0</td>\n",
       "      <td>0</td>\n",
       "      <td>0</td>\n",
       "      <td>0</td>\n",
       "      <td>0</td>\n",
       "      <td>0</td>\n",
       "    </tr>\n",
       "  </tbody>\n",
       "</table>\n",
       "<p>5 rows × 148 columns</p>\n",
       "</div>"
      ],
      "text/plain": [
       "                         Ringelblumen  Zitronenmyrten  Süße Brombeer  \\\n",
       "St. Lucia                           0               1              0   \n",
       "Sanddorn Quitte                     0               1              0   \n",
       "Glückseligkeit                      0               0              0   \n",
       "Abendtee                            0               0              0   \n",
       "Motivation & Zuversicht             0               0              0   \n",
       "\n",
       "                         Reiskörner  Kakaoschale  Äpfel  Rosmarin  \\\n",
       "St. Lucia                         0            0      0         0   \n",
       "Sanddorn Quitte                   0            0      0         0   \n",
       "Glückseligkeit                    0            0      1         1   \n",
       "Abendtee                          0            0      0         0   \n",
       "Motivation & Zuversicht           0            0      0         1   \n",
       "\n",
       "                         natürliches Aroma  Echtes Goldrutenkraut  Heidekraut  \\\n",
       "St. Lucia                                1                      0           0   \n",
       "Sanddorn Quitte                          0                      0           0   \n",
       "Glückseligkeit                           1                      0           0   \n",
       "Abendtee                                 0                      0           0   \n",
       "Motivation & Zuversicht                  0                      0           0   \n",
       "\n",
       "                         ...  \\\n",
       "St. Lucia                ...   \n",
       "Sanddorn Quitte          ...   \n",
       "Glückseligkeit           ...   \n",
       "Abendtee                 ...   \n",
       "Motivation & Zuversicht  ...   \n",
       "\n",
       "                         Bachnmischung (Auszug aus Gentian [Herbstenzian]  \\\n",
       "St. Lucia                                                               0   \n",
       "Sanddorn Quitte                                                         0   \n",
       "Glückseligkeit                                                          0   \n",
       "Abendtee                                                                0   \n",
       "Motivation & Zuversicht                                                 1   \n",
       "\n",
       "                         Echinaceakraut  Weißdorn  Passionsblumenkraut  \\\n",
       "St. Lucia                             0         0                    0   \n",
       "Sanddorn Quitte                       0         0                    0   \n",
       "Glückseligkeit                        0         0                    0   \n",
       "Abendtee                              0         0                    0   \n",
       "Motivation & Zuversicht               0         0                    0   \n",
       "\n",
       "                         Natürliches Aroma mit Apfelgeschmack  Majorankraut  \\\n",
       "St. Lucia                                                   0             0   \n",
       "Sanddorn Quitte                                             0             0   \n",
       "Glückseligkeit                                              0             0   \n",
       "Abendtee                                                    0             0   \n",
       "Motivation & Zuversicht                                     0             0   \n",
       "\n",
       "                         Honigbuschzweigspitze  Orangen  Brombeer  Lemongras  \n",
       "St. Lucia                                    1        0         0          0  \n",
       "Sanddorn Quitte                              0        0         0          0  \n",
       "Glückseligkeit                               0        0         0          0  \n",
       "Abendtee                                     0        0         0          0  \n",
       "Motivation & Zuversicht                      0        0         0          0  \n",
       "\n",
       "[5 rows x 148 columns]"
      ]
     },
     "execution_count": 32,
     "metadata": {},
     "output_type": "execute_result"
    }
   ],
   "source": [
    "df = utils.parse_teas_to_df(extend_feaures_n=0)\n",
    "df.to_csv('teas.csv')\n",
    "df_with_pairs = utils.parse_teas_to_df(extend_feaures_n=2)\n",
    "df.to_csv('teas_extend_feaures.csv')\n",
    "\n",
    "df.head()"
   ]
  },
  {
   "cell_type": "markdown",
   "metadata": {},
   "source": [
    "I have ended up with two dataframes: one, that has teas as samples and ingredients as columns encoded as dummy variables. Second one has extended information about which pairs of ingredients were present in the tea, since i suspect, that interactions between them might have an effect on taste (if you have ever tried ice cream with fries, you know what i mean)."
   ]
  },
  {
   "cell_type": "markdown",
   "metadata": {},
   "source": [
    "### Stage two: Stats, stats, stats"
   ]
  },
  {
   "cell_type": "code",
   "execution_count": 17,
   "metadata": {},
   "outputs": [],
   "source": [
    "x = df[[col for col in df.columns if col != 'score']]\n",
    "y = df['score']\n",
    "\n",
    "x_extended = df_with_pairs[[col for col in df_with_pairs.columns if col != 'score']]\n",
    "y_extended = df_with_pairs['score']"
   ]
  },
  {
   "cell_type": "markdown",
   "metadata": {},
   "source": [
    "The chi-square is a non-parametric test, which measures dependence between stochastic variables. It tests the null hypothesis that no relationship exists on the categorical variables. Seems like a good way to work out which ~~features~~ ingredients of tea actually influence the score. There is a drawback though, chi-square is sensitive to the sample size, so the results need to be taken with a grain of salt.\n",
    "\n",
    "Performing most of statistical tests on a small sample size should be taken sceptically, so I kept in mind some sanity checks, that would tell me that analysis makes sense: I am quite sure, that I am not a big fan of black tea and chamomile but do love cinnamon."
   ]
  },
  {
   "cell_type": "code",
   "execution_count": 18,
   "metadata": {},
   "outputs": [],
   "source": [
    "def generate_chi2_stats(x, y):\n",
    "    fs = SelectKBest(score_func=chi2, k=10)\n",
    "    fs.fit(x, y)\n",
    "    \n",
    "    df_chi = pd.DataFrame(\n",
    "        index=x.columns, columns=['chi', 'p', 'n'],\n",
    "        data=np.column_stack([fs.scores_, fs.pvalues_, x.sum().values])\n",
    "    )\n",
    "    df_chi = df_chi.sort_values(['chi'], ascending=False)\n",
    "    \n",
    "    return df_chi"
   ]
  },
  {
   "cell_type": "code",
   "execution_count": 19,
   "metadata": {},
   "outputs": [
    {
     "data": {
      "text/html": [
       "<div>\n",
       "<style scoped>\n",
       "    .dataframe tbody tr th:only-of-type {\n",
       "        vertical-align: middle;\n",
       "    }\n",
       "\n",
       "    .dataframe tbody tr th {\n",
       "        vertical-align: top;\n",
       "    }\n",
       "\n",
       "    .dataframe thead th {\n",
       "        text-align: right;\n",
       "    }\n",
       "</style>\n",
       "<table border=\"1\" class=\"dataframe\">\n",
       "  <thead>\n",
       "    <tr style=\"text-align: right;\">\n",
       "      <th></th>\n",
       "      <th>chi</th>\n",
       "      <th>p</th>\n",
       "      <th>n</th>\n",
       "    </tr>\n",
       "  </thead>\n",
       "  <tbody>\n",
       "    <tr>\n",
       "      <th>Koriander</th>\n",
       "      <td>4.444444</td>\n",
       "      <td>0.035015</td>\n",
       "      <td>6.0</td>\n",
       "    </tr>\n",
       "    <tr>\n",
       "      <th>Brennnessel</th>\n",
       "      <td>4.050000</td>\n",
       "      <td>0.044171</td>\n",
       "      <td>3.0</td>\n",
       "    </tr>\n",
       "    <tr>\n",
       "      <th>Kamillen</th>\n",
       "      <td>4.050000</td>\n",
       "      <td>0.044171</td>\n",
       "      <td>3.0</td>\n",
       "    </tr>\n",
       "    <tr>\n",
       "      <th>Zitronengras</th>\n",
       "      <td>2.962963</td>\n",
       "      <td>0.085192</td>\n",
       "      <td>4.0</td>\n",
       "    </tr>\n",
       "    <tr>\n",
       "      <th>Fenchel süß</th>\n",
       "      <td>2.962963</td>\n",
       "      <td>0.085192</td>\n",
       "      <td>4.0</td>\n",
       "    </tr>\n",
       "    <tr>\n",
       "      <th>Zitronenmyrten</th>\n",
       "      <td>2.868148</td>\n",
       "      <td>0.090349</td>\n",
       "      <td>5.0</td>\n",
       "    </tr>\n",
       "    <tr>\n",
       "      <th>Schwarztee</th>\n",
       "      <td>2.700000</td>\n",
       "      <td>0.100348</td>\n",
       "      <td>2.0</td>\n",
       "    </tr>\n",
       "    <tr>\n",
       "      <th>Apfelminze</th>\n",
       "      <td>2.700000</td>\n",
       "      <td>0.100348</td>\n",
       "      <td>2.0</td>\n",
       "    </tr>\n",
       "    <tr>\n",
       "      <th>Hagebutte</th>\n",
       "      <td>2.288095</td>\n",
       "      <td>0.130370</td>\n",
       "      <td>7.0</td>\n",
       "    </tr>\n",
       "    <tr>\n",
       "      <th>Zichorien</th>\n",
       "      <td>2.222222</td>\n",
       "      <td>0.136037</td>\n",
       "      <td>3.0</td>\n",
       "    </tr>\n",
       "  </tbody>\n",
       "</table>\n",
       "</div>"
      ],
      "text/plain": [
       "                     chi         p    n\n",
       "Koriander       4.444444  0.035015  6.0\n",
       "Brennnessel     4.050000  0.044171  3.0\n",
       "Kamillen        4.050000  0.044171  3.0\n",
       "Zitronengras    2.962963  0.085192  4.0\n",
       "Fenchel süß     2.962963  0.085192  4.0\n",
       "Zitronenmyrten  2.868148  0.090349  5.0\n",
       "Schwarztee      2.700000  0.100348  2.0\n",
       "Apfelminze      2.700000  0.100348  2.0\n",
       "Hagebutte       2.288095  0.130370  7.0\n",
       "Zichorien       2.222222  0.136037  3.0"
      ]
     },
     "execution_count": 19,
     "metadata": {},
     "output_type": "execute_result"
    }
   ],
   "source": [
    "df_chi = generate_chi2_stats(x, y)\n",
    "df_chi.head(10)"
   ]
  },
  {
   "cell_type": "markdown",
   "metadata": {},
   "source": [
    "I would have never guessed that coriander would influence the score so much. But it seems sensible so far, most of the tastes are something that I know that I like or hate (who likes nettles in their tea anyway?!)"
   ]
  },
  {
   "cell_type": "code",
   "execution_count": 20,
   "metadata": {},
   "outputs": [
    {
     "data": {
      "text/html": [
       "<div>\n",
       "<style scoped>\n",
       "    .dataframe tbody tr th:only-of-type {\n",
       "        vertical-align: middle;\n",
       "    }\n",
       "\n",
       "    .dataframe tbody tr th {\n",
       "        vertical-align: top;\n",
       "    }\n",
       "\n",
       "    .dataframe thead th {\n",
       "        text-align: right;\n",
       "    }\n",
       "</style>\n",
       "<table border=\"1\" class=\"dataframe\">\n",
       "  <thead>\n",
       "    <tr style=\"text-align: right;\">\n",
       "      <th></th>\n",
       "      <th>chi</th>\n",
       "      <th>p</th>\n",
       "      <th>n</th>\n",
       "    </tr>\n",
       "  </thead>\n",
       "  <tbody>\n",
       "    <tr>\n",
       "      <th>Koriander</th>\n",
       "      <td>4.444444</td>\n",
       "      <td>0.035015</td>\n",
       "      <td>6.0</td>\n",
       "    </tr>\n",
       "    <tr>\n",
       "      <th>Brennnessel</th>\n",
       "      <td>4.050000</td>\n",
       "      <td>0.044171</td>\n",
       "      <td>3.0</td>\n",
       "    </tr>\n",
       "    <tr>\n",
       "      <th>(Hibiskus, Zitronenmyrten)</th>\n",
       "      <td>4.050000</td>\n",
       "      <td>0.044171</td>\n",
       "      <td>3.0</td>\n",
       "    </tr>\n",
       "    <tr>\n",
       "      <th>(Melissen, Kamillen)</th>\n",
       "      <td>4.050000</td>\n",
       "      <td>0.044171</td>\n",
       "      <td>3.0</td>\n",
       "    </tr>\n",
       "    <tr>\n",
       "      <th>Kamillen</th>\n",
       "      <td>4.050000</td>\n",
       "      <td>0.044171</td>\n",
       "      <td>3.0</td>\n",
       "    </tr>\n",
       "    <tr>\n",
       "      <th>(Hibiskus, Sanddorn)</th>\n",
       "      <td>4.050000</td>\n",
       "      <td>0.044171</td>\n",
       "      <td>3.0</td>\n",
       "    </tr>\n",
       "    <tr>\n",
       "      <th>(Honigbuschzweigspitze, Zitronenmyrten)</th>\n",
       "      <td>4.050000</td>\n",
       "      <td>0.044171</td>\n",
       "      <td>3.0</td>\n",
       "    </tr>\n",
       "    <tr>\n",
       "      <th>(Hagebuttenschale, Zitronenmyrten)</th>\n",
       "      <td>4.050000</td>\n",
       "      <td>0.044171</td>\n",
       "      <td>3.0</td>\n",
       "    </tr>\n",
       "    <tr>\n",
       "      <th>(Sanddorn, Zitronenmyrten)</th>\n",
       "      <td>4.050000</td>\n",
       "      <td>0.044171</td>\n",
       "      <td>3.0</td>\n",
       "    </tr>\n",
       "    <tr>\n",
       "      <th>(Apfel, Hibiskus)</th>\n",
       "      <td>4.050000</td>\n",
       "      <td>0.044171</td>\n",
       "      <td>3.0</td>\n",
       "    </tr>\n",
       "  </tbody>\n",
       "</table>\n",
       "</div>"
      ],
      "text/plain": [
       "                                              chi         p    n\n",
       "Koriander                                4.444444  0.035015  6.0\n",
       "Brennnessel                              4.050000  0.044171  3.0\n",
       "(Hibiskus, Zitronenmyrten)               4.050000  0.044171  3.0\n",
       "(Melissen, Kamillen)                     4.050000  0.044171  3.0\n",
       "Kamillen                                 4.050000  0.044171  3.0\n",
       "(Hibiskus, Sanddorn)                     4.050000  0.044171  3.0\n",
       "(Honigbuschzweigspitze, Zitronenmyrten)  4.050000  0.044171  3.0\n",
       "(Hagebuttenschale, Zitronenmyrten)       4.050000  0.044171  3.0\n",
       "(Sanddorn, Zitronenmyrten)               4.050000  0.044171  3.0\n",
       "(Apfel, Hibiskus)                        4.050000  0.044171  3.0"
      ]
     },
     "execution_count": 20,
     "metadata": {},
     "output_type": "execute_result"
    }
   ],
   "source": [
    "df_chi_extended = generate_chi2_stats(x_extended, y_extended)\n",
    "df_chi_extended.head(10)"
   ]
  },
  {
   "cell_type": "markdown",
   "metadata": {},
   "source": [
    "It seems that a combination of tastes highly changs the situation. Not for nettles though, I have strong opinions on this one."
   ]
  },
  {
   "cell_type": "markdown",
   "metadata": {},
   "source": [
    "Let's do some sanity checks before moving forward. Just making sure that I am not getting classical \"more samples lead to more significance\" problem."
   ]
  },
  {
   "cell_type": "code",
   "execution_count": 21,
   "metadata": {},
   "outputs": [
    {
     "data": {
      "text/html": [
       "<div>\n",
       "<style scoped>\n",
       "    .dataframe tbody tr th:only-of-type {\n",
       "        vertical-align: middle;\n",
       "    }\n",
       "\n",
       "    .dataframe tbody tr th {\n",
       "        vertical-align: top;\n",
       "    }\n",
       "\n",
       "    .dataframe thead th {\n",
       "        text-align: right;\n",
       "    }\n",
       "</style>\n",
       "<table border=\"1\" class=\"dataframe\">\n",
       "  <thead>\n",
       "    <tr style=\"text-align: right;\">\n",
       "      <th></th>\n",
       "      <th>chi</th>\n",
       "      <th>p</th>\n",
       "      <th>n</th>\n",
       "    </tr>\n",
       "  </thead>\n",
       "  <tbody>\n",
       "    <tr>\n",
       "      <th>Süßholz</th>\n",
       "      <td>0.040000</td>\n",
       "      <td>0.841481</td>\n",
       "      <td>15.0</td>\n",
       "    </tr>\n",
       "    <tr>\n",
       "      <th>Hibiskus</th>\n",
       "      <td>0.003858</td>\n",
       "      <td>0.950473</td>\n",
       "      <td>12.0</td>\n",
       "    </tr>\n",
       "    <tr>\n",
       "      <th>Apfel</th>\n",
       "      <td>1.222377</td>\n",
       "      <td>0.268895</td>\n",
       "      <td>12.0</td>\n",
       "    </tr>\n",
       "    <tr>\n",
       "      <th>Ingwer</th>\n",
       "      <td>0.172391</td>\n",
       "      <td>0.677996</td>\n",
       "      <td>11.0</td>\n",
       "    </tr>\n",
       "    <tr>\n",
       "      <th>Zimtrinde</th>\n",
       "      <td>0.026667</td>\n",
       "      <td>0.870283</td>\n",
       "      <td>10.0</td>\n",
       "    </tr>\n",
       "    <tr>\n",
       "      <th>Brombeer</th>\n",
       "      <td>1.245185</td>\n",
       "      <td>0.264474</td>\n",
       "      <td>10.0</td>\n",
       "    </tr>\n",
       "    <tr>\n",
       "      <th>Zitronenmelisse</th>\n",
       "      <td>0.226852</td>\n",
       "      <td>0.633868</td>\n",
       "      <td>10.0</td>\n",
       "    </tr>\n",
       "    <tr>\n",
       "      <th>Anis</th>\n",
       "      <td>2.080741</td>\n",
       "      <td>0.149168</td>\n",
       "      <td>10.0</td>\n",
       "    </tr>\n",
       "    <tr>\n",
       "      <th>Hagebuttenschale</th>\n",
       "      <td>0.226852</td>\n",
       "      <td>0.633868</td>\n",
       "      <td>10.0</td>\n",
       "    </tr>\n",
       "    <tr>\n",
       "      <th>Kardamom</th>\n",
       "      <td>0.644630</td>\n",
       "      <td>0.422039</td>\n",
       "      <td>10.0</td>\n",
       "    </tr>\n",
       "  </tbody>\n",
       "</table>\n",
       "</div>"
      ],
      "text/plain": [
       "                       chi         p     n\n",
       "Süßholz           0.040000  0.841481  15.0\n",
       "Hibiskus          0.003858  0.950473  12.0\n",
       "Apfel             1.222377  0.268895  12.0\n",
       "Ingwer            0.172391  0.677996  11.0\n",
       "Zimtrinde         0.026667  0.870283  10.0\n",
       "Brombeer          1.245185  0.264474  10.0\n",
       "Zitronenmelisse   0.226852  0.633868  10.0\n",
       "Anis              2.080741  0.149168  10.0\n",
       "Hagebuttenschale  0.226852  0.633868  10.0\n",
       "Kardamom          0.644630  0.422039  10.0"
      ]
     },
     "execution_count": 21,
     "metadata": {},
     "output_type": "execute_result"
    }
   ],
   "source": [
    "df_chi.sort_values('n', ascending=False).head(10)"
   ]
  },
  {
   "cell_type": "markdown",
   "metadata": {},
   "source": [
    "Seems like sample size is not even correlated with p-value, so we can continue."
   ]
  },
  {
   "cell_type": "code",
   "execution_count": 22,
   "metadata": {},
   "outputs": [
    {
     "data": {
      "text/html": [
       "<div>\n",
       "<style scoped>\n",
       "    .dataframe tbody tr th:only-of-type {\n",
       "        vertical-align: middle;\n",
       "    }\n",
       "\n",
       "    .dataframe tbody tr th {\n",
       "        vertical-align: top;\n",
       "    }\n",
       "\n",
       "    .dataframe thead th {\n",
       "        text-align: right;\n",
       "    }\n",
       "</style>\n",
       "<table border=\"1\" class=\"dataframe\">\n",
       "  <thead>\n",
       "    <tr style=\"text-align: right;\">\n",
       "      <th></th>\n",
       "      <th>chi</th>\n",
       "      <th>p</th>\n",
       "      <th>n</th>\n",
       "    </tr>\n",
       "  </thead>\n",
       "  <tbody>\n",
       "    <tr>\n",
       "      <th>chi</th>\n",
       "      <td>1.000000</td>\n",
       "      <td>-0.841933</td>\n",
       "      <td>-0.133692</td>\n",
       "    </tr>\n",
       "    <tr>\n",
       "      <th>p</th>\n",
       "      <td>-0.841933</td>\n",
       "      <td>1.000000</td>\n",
       "      <td>0.325986</td>\n",
       "    </tr>\n",
       "    <tr>\n",
       "      <th>n</th>\n",
       "      <td>-0.133692</td>\n",
       "      <td>0.325986</td>\n",
       "      <td>1.000000</td>\n",
       "    </tr>\n",
       "  </tbody>\n",
       "</table>\n",
       "</div>"
      ],
      "text/plain": [
       "          chi         p         n\n",
       "chi  1.000000 -0.841933 -0.133692\n",
       "p   -0.841933  1.000000  0.325986\n",
       "n   -0.133692  0.325986  1.000000"
      ]
     },
     "execution_count": 22,
     "metadata": {},
     "output_type": "execute_result"
    }
   ],
   "source": [
    "df_chi.corr()"
   ]
  },
  {
   "cell_type": "markdown",
   "metadata": {},
   "source": [
    "Chi-square test shows, that given ingredients have an effect on my attitude towards tea, but doesn't say if I love them or hate. Simple way to work this out is to check, which score on average I gave to teas with these ingredients. For high chi-square results it should be consistent."
   ]
  },
  {
   "cell_type": "code",
   "execution_count": 23,
   "metadata": {},
   "outputs": [
    {
     "name": "stdout",
     "output_type": "stream",
     "text": [
      "Koriander: mean: 1.0, sample size: 6\n",
      "Brennnessel: mean: 0.0, sample size: 3\n",
      "Kamillen: mean: 0.0, sample size: 3\n",
      "Zitronengras: mean: 1.0, sample size: 4\n",
      "Fenchel süß: mean: 1.0, sample size: 4\n",
      "Zitronenmyrten: mean: 0.2, sample size: 5\n",
      "Schwarztee: mean: 0.0, sample size: 2\n",
      "Apfelminze: mean: 0.0, sample size: 2\n",
      "Hagebutte: mean: 0.8571428571428571, sample size: 7\n",
      "Zichorien: mean: 1.0, sample size: 3\n"
     ]
    }
   ],
   "source": [
    "for taste in df_chi.index[:10]:\n",
    "    appears = df.loc[df[taste]==1]\n",
    "    n = len(appears)\n",
    "    mean = df.loc[df[taste]==1]['score'].mean()\n",
    "    print(f'{taste}: mean: {mean}, sample size: {n}')"
   ]
  },
  {
   "cell_type": "markdown",
   "metadata": {},
   "source": [
    "And for low chi-square, it should be a mess:"
   ]
  },
  {
   "cell_type": "code",
   "execution_count": 24,
   "metadata": {},
   "outputs": [
    {
     "name": "stdout",
     "output_type": "stream",
     "text": [
      "Holunderbeere: mean: 0.5, sample size: 2\n",
      "Hopfenzapfe: mean: 0.5, sample size: 2\n",
      "Johannisbeeren schwarz: mean: 0.5, sample size: 2\n",
      "Süße Brombeer: mean: 0.5, sample size: 2\n",
      "Kamille: mean: 0.5, sample size: 2\n",
      "Süßholz: mean: 0.6, sample size: 15\n",
      "Zimtrinde: mean: 0.6, sample size: 10\n",
      "Pfefferminze: mean: 0.6, sample size: 5\n",
      "Grüntee: mean: 0.6, sample size: 5\n",
      "Hibiskus: mean: 0.5833333333333334, sample size: 12\n"
     ]
    }
   ],
   "source": [
    "for taste in df_chi.index[-10:]:\n",
    "    appears = df.loc[df[taste]==1]\n",
    "    n = len(appears)\n",
    "    mean = df.loc[df[taste]==1]['score'].mean()\n",
    "    print(f'{taste}: mean: {mean}, sample size: {n}')"
   ]
  },
  {
   "cell_type": "markdown",
   "metadata": {},
   "source": [
    "It is not surprising that ingredients with the highest sample size, like liquorice (Süßholz) and Rosemallows (Hibiskus) have most confusing scores, since most teas had multiple ingredients. It is probably a combination of tastes or other distinct tastes that affect the score."
   ]
  },
  {
   "cell_type": "markdown",
   "metadata": {},
   "source": [
    "Another way to work out, which features can strongly predict my attitude is to train a simple logistic regression from sklearn."
   ]
  },
  {
   "cell_type": "code",
   "execution_count": 25,
   "metadata": {},
   "outputs": [],
   "source": [
    "def select_predictors(x, y, df_chi, n_predictors):\n",
    "    scores = {}\n",
    "    clfs = {}\n",
    "    for n in n_predictors:\n",
    "        xx = x[df_chi.index[:n]]\n",
    "        clf = sklearn.linear_model.LogisticRegression().fit(xx, y)\n",
    "        score = clf.score(xx, y)\n",
    "        # no point to have a model with more features, but same score. It's occam's razor, man\n",
    "        if score not in scores.values():\n",
    "            scores[n] = clf.score(xx, y)\n",
    "            clfs[n] = clf\n",
    "        \n",
    "    fig, ax = plt.subplots()\n",
    "    ax.plot(scores.keys(), scores.values())\n",
    "    ax.set_ylim([0.5, 1.0])\n",
    "    ax.set_xlabel('n predictors')\n",
    "    ax.set_ylabel('mean accuracy')\n",
    "    plt.show()\n",
    "    \n",
    "    return clfs[max(scores, key=scores.get)], xx"
   ]
  },
  {
   "cell_type": "code",
   "execution_count": 26,
   "metadata": {},
   "outputs": [
    {
     "data": {
      "image/png": "[encoded data removed]",
      "text/plain": [
       "<matplotlib.figure.Figure at 0x7f622fc84eb8>"
      ]
     },
     "metadata": {
      "needs_background": "light"
     },
     "output_type": "display_data"
    }
   ],
   "source": [
    "best_clf, features = select_predictors(x, y, df_chi, range(1, len(x)))"
   ]
  },
  {
   "cell_type": "markdown",
   "metadata": {},
   "source": [
    "I know, I know, these beautiful scores are probably from overtraining and the model would not score that nice on any training set, if I had one."
   ]
  },
  {
   "cell_type": "code",
   "execution_count": 27,
   "metadata": {},
   "outputs": [
    {
     "name": "stdout",
     "output_type": "stream",
     "text": [
      "Koriander: 0.82\n",
      "Brennnessel: -0.78\n",
      "Kamillen: -0.62\n",
      "Zitronengras: 0.89\n",
      "Fenchel süß: 0.57\n",
      "Zitronenmyrten: -0.72\n",
      "Schwarztee: -0.69\n",
      "Apfelminze: -0.53\n",
      "Zimt: 0.63\n",
      "Anis: 0.70\n",
      "Orangen süß: -0.72\n",
      "Johannisbeer schwarz: 0.68\n",
      "Rote Bete: 0.59\n",
      "Grünes HAFERkraut: 0.51\n",
      "Zitronen: -0.61\n"
     ]
    }
   ],
   "source": [
    "for i, coef in enumerate(best_clf.coef_[0]):\n",
    "    if abs(coef) > 0.5:\n",
    "        print(f\"{features.columns[i]}: {coef:.2f}\")"
   ]
  },
  {
   "cell_type": "markdown",
   "metadata": {},
   "source": [
    "Results are more or less consistent with chi-square scores. And they seem quite relatable to me. Well, till it comes to beetroot. Beetroot in the tea? Why? And it seems that I even like it."
   ]
  },
  {
   "cell_type": "code",
   "execution_count": 29,
   "metadata": {},
   "outputs": [
    {
     "data": {
      "image/png": "[encoded data removed]",
      "text/plain": [
       "<matplotlib.figure.Figure at 0x7f622fbd5dd8>"
      ]
     },
     "metadata": {
      "needs_background": "light"
     },
     "output_type": "display_data"
    }
   ],
   "source": [
    "best_clf_extended, features_extended = select_predictors(x_extended, y_extended, df_chi_extended, range(1, len(x_extended)))"
   ]
  },
  {
   "cell_type": "code",
   "execution_count": 30,
   "metadata": {},
   "outputs": [
    {
     "name": "stdout",
     "output_type": "stream",
     "text": [
      "Koriander: 0.89\n",
      "Brennnessel: -0.83\n",
      "('Melissen', 'Kamillen'): -0.60\n",
      "Kamillen: -0.60\n",
      "('Honigbuschzweigspitze', 'Zitronenmyrten'): -0.60\n",
      "('Hibiskus', 'Orangenschale'): 0.76\n",
      "Zitronengras: 0.86\n",
      "Fenchel süß: 0.63\n",
      "('Zitronenmelisse', 'Brombeer'): -0.81\n",
      "('Zitronenmelisse', 'Linden'): -0.55\n",
      "('Blaue Malve (Käsepappel)', 'Kornblume'): -0.58\n",
      "('Kornblume', 'Ringelblume'): -0.67\n",
      "Schwarztee: -0.89\n",
      "('Zitronenschale', 'Süßholz'): -0.77\n",
      "('Orangen süß', 'Süßholz'): -0.77\n"
     ]
    }
   ],
   "source": [
    "for i, coef in enumerate(best_clf_extended.coef_[0]):\n",
    "    if abs(coef) > 0.5:\n",
    "        print(f\"{features_extended.columns[i]}: {coef:.2f}\")"
   ]
  },
  {
   "cell_type": "markdown",
   "metadata": {},
   "source": [
    "While the accuracy of the model with extended features is higher, it seems less useful to me. Yes, there is some added information about which combinations work especially bad for me, but none of them contradicts with my feelings towards individual ingredients. If I don't like chamomile, it doesn't add anything to know that I also don't like it in combination with lemon balm. It would be more fun to find out the opposite, but, you know, real world data is boring."
   ]
  },
  {
   "cell_type": "markdown",
   "metadata": {},
   "source": [
    "### Result"
   ]
  },
  {
   "cell_type": "markdown",
   "metadata": {},
   "source": [
    "While I definitely had fun trying different teas and playing around with the dataset and got some insights about my love to coriander and lemongrass teas, the most important question, obviously is, if am I going to mix coriander, fennel, lemongrass and cinnamon in a most-beautiful-best-ever-uber-tasty tea and enjoy it? This is worth waiting for next Christmas to find out."
   ]
  }
 ],
 "metadata": {
  "kernelspec": {
   "display_name": "Python 3",
   "language": "python",
   "name": "python3"
  },
  "language_info": {
   "codemirror_mode": {
    "name": "ipython",
    "version": 3
   },
   "file_extension": ".py",
   "mimetype": "text/x-python",
   "name": "python",
   "nbconvert_exporter": "python",
   "pygments_lexer": "ipython3",
   "version": "3.6.8"
  }
 },
 "nbformat": 4,
 "nbformat_minor": 2
}
